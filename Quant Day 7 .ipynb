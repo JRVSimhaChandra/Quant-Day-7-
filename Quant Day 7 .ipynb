{
 "cells": [
  {
   "cell_type": "markdown",
   "id": "0efd9324-34b3-49d7-b95c-6983f1b02b24",
   "metadata": {},
   "source": [
    "## Market Quotes"
   ]
  },
  {
   "cell_type": "code",
   "execution_count": 17,
   "id": "eb5190f4-9d1c-40ff-ab51-b34572ff4e75",
   "metadata": {},
   "outputs": [
    {
     "name": "stdout",
     "output_type": "stream",
     "text": [
      "Defaulting to user installation because normal site-packages is not writeable\n",
      "Requirement already satisfied: utils in c:\\users\\chand\\appdata\\roaming\\python\\python312\\site-packages (1.0.2)\n"
     ]
    }
   ],
   "source": [
    "!pip install utils\n",
    "%matplotlib inline\n",
    "import numpy as np\n",
    "import utils\n",
    "\n",
    "from QuantLib import *"
   ]
  },
  {
   "cell_type": "code",
   "execution_count": 18,
   "id": "8dff2ea2-a92c-45a5-8939-b46118c76b3c",
   "metadata": {},
   "outputs": [],
   "source": [
    "today = Date(17, October, 2024)\n",
    "Settings.instance().evaluationDate = today"
   ]
  },
  {
   "cell_type": "markdown",
   "id": "ed0d2ca3-8bec-494e-b0ec-e056b6727682",
   "metadata": {},
   "source": [
    "## Setting the stage\n",
    "\n",
    "For illustration purposes, I’ll create a bond curve using the same data and algorithm shown in one\r\n",
    "of the QuantLib C++ examples; namely, I’ll give to the curve the functional form defined by the\r\n",
    "Nelson-Siegel model and I’ll fit it to a number of bond. Here are the maturities in years and the\r\n",
    "coupons of the bonds I’ll use:"
   ]
  },
  {
   "cell_type": "code",
   "execution_count": 19,
   "id": "e4fdca9d-abf7-47ea-a8b7-90824427de60",
   "metadata": {},
   "outputs": [],
   "source": [
    "data = [\n",
    "    (2, 0.02), (4, 0.0225), (6, 0.025), (8, 0.0275),\n",
    "    (10, 0.03), (12, 0.0325), (14, 0.035), (16, 0.0375),\n",
    "    (18, 0.04), (20, 0.0425), (22, 0.045), (24, 0.0475),\n",
    "    (26, 0.05), (28, 0.0525), (30, 0.055)\n",
    "]\n"
   ]
  },
  {
   "cell_type": "markdown",
   "id": "2d333e56-99bf-46bc-a3ac-62d0113265ef",
   "metadata": {},
   "source": [
    " For simplicity, I’ll use the same start date, frequency and conventions for all the bonds; this doesn’t\n",
    "\n",
    " affect the point I’m going to make in the rest of the notebook. I’ll also assume that all bonds currently\n",
    "\n",
    "price at 100. I’ll skip over the details of building the curve now; the one thing you’ll need to remember is that it depends on the quotes modeling the bond prices.\n"
   ]
  },
  {
   "cell_type": "code",
   "execution_count": 20,
   "id": "6fc25881-067f-478d-8c68-8401a0afb474",
   "metadata": {},
   "outputs": [],
   "source": [
    "calendar = TARGET()\n",
    "settlement = calendar.advance(today, 3, Days)\n",
    "quotes = []\n",
    "helpers = []\n",
    "for length, coupon in data:\n",
    "    maturity = calendar.advance(settlement, length, Years)\n",
    "    schedule = Schedule(settlement, maturity, Period(Annual),\n",
    "                        calendar, ModifiedFollowing, ModifiedFollowing,\n",
    "                        DateGeneration.Backward, False)\n",
    "    quote = SimpleQuote(100.0)\n",
    "    quotes.append(quote)\n",
    "    helpers.append(FixedRateBondHelper(QuoteHandle(quote), 3, 100.0,\n",
    "                                       schedule, [coupon], SimpleDayCounter(),\n",
    "                                       ModifiedFollowing))\n",
    "    curve = FittedBondDiscountCurve(0, calendar, helpers,\n",
    "                                    SimpleDayCounter(), NelsonSiegelFitting())"
   ]
  },
  {
   "cell_type": "markdown",
   "id": "2446faa1-038c-4905-a5e9-c1cea8662ab7",
   "metadata": {},
   "source": [
    "Here is a visualization of the curve as discount factors versus time in years:"
   ]
  },
  {
   "cell_type": "code",
   "execution_count": 22,
   "id": "b9927aa9-6244-4b4d-8479-bf3a9aec9f71",
   "metadata": {},
   "outputs": [
    {
     "data": {
      "image/png": "[encoded data removed]",
      "text/plain": [
       "<Figure size 640x480 with 1 Axes>"
      ]
     },
     "metadata": {},
     "output_type": "display_data"
    }
   ],
   "source": [
    "import matplotlib.pyplot as plt\n",
    "import numpy as np\n",
    "\n",
    "# ... (Your existing code) ...\n",
    "\n",
    "sample_times = np.linspace(0.0, 30.0, 301)\n",
    "sample_discounts = [ curve.discount(t) for t in sample_times ]\n",
    "\n",
    "f, ax = plt.subplots() # Changed utils.plot() to plt.subplots()\n",
    "ax.set_ylim(0.0, 1.0)\n",
    "ax.plot(sample_times, sample_discounts);\n",
    "\n"
   ]
  },
  {
   "cell_type": "markdown",
   "id": "d13c3c56-edce-462b-967e-74d4d185e46d",
   "metadata": {},
   "source": [
    "\n",
    "\n",
    "here’s a bond priced by discounting its coupons on the curve:\n"
   ]
  },
  {
   "cell_type": "code",
   "execution_count": 25,
   "id": "3f89603c-7f0a-4e84-84d4-bf523e45b93b",
   "metadata": {},
   "outputs": [
    {
     "name": "stdout",
     "output_type": "stream",
     "text": [
      "105.78275388879618\n"
     ]
    }
   ],
   "source": [
    "schedule = Schedule(today, calendar.advance(today, 15, Years),\n",
    "                    Period(Semiannual), calendar,\n",
    "                    ModifiedFollowing, ModifiedFollowing,\n",
    "                    DateGeneration.Backward, False)\n",
    "bond = FixedRateBond(3, 100.0, schedule, [0.04], Actual360())\n",
    "bond.setPricingEngine(DiscountingBondEngine(YieldTermStructureHandle(curve)))\n",
    "print(bond.cleanPrice()) # Changed bond.cleanprice() to bond.cleanPrice()"
   ]
  },
  {
   "cell_type": "markdown",
   "id": "41a06899-114f-4571-85c3-8ecbc2c0a9bd",
   "metadata": {},
   "source": [
    " “It looked like a good idea at the time”"
   ]
  },
  {
   "cell_type": "code",
   "execution_count": 26,
   "id": "06286655-de4b-42f1-a5c3-a1b8bc650a66",
   "metadata": {},
   "outputs": [],
   "source": [
    "prices = []\n",
    "def print_price():\n",
    "    p = bond.cleanPrice()\n",
    "    prices.append(p)\n",
    "    print(p)\n",
    "o = Observer(print_price)\n",
    "o.registerWith(bond)"
   ]
  },
  {
   "cell_type": "code",
   "execution_count": 27,
   "id": "1a32e645-e052-45b4-be25-23e19d5ad457",
   "metadata": {},
   "outputs": [
    {
     "name": "stdout",
     "output_type": "stream",
     "text": [
      "105.78275388879618\n",
      "105.87404418720271\n"
     ]
    }
   ],
   "source": [
    "quotes[2].setValue(101.0)"
   ]
  },
  {
   "cell_type": "code",
   "execution_count": 28,
   "id": "cc27bfaf-c4c3-4bda-9454-a70371b3283d",
   "metadata": {},
   "outputs": [
    {
     "name": "stdout",
     "output_type": "stream",
     "text": [
      "105.87404418720271\n",
      "105.7827538800698\n"
     ]
    }
   ],
   "source": [
    "quotes[2].setValue(100.0)"
   ]
  },
  {
   "cell_type": "code",
   "execution_count": 29,
   "id": "de1fa6f4-c791-4e75-a745-b749ff575bbf",
   "metadata": {},
   "outputs": [
    {
     "name": "stdout",
     "output_type": "stream",
     "text": [
      "105.7827538800698\n",
      "105.29040641172901\n",
      "105.29040641172901\n",
      "105.22585319424942\n",
      "105.22585319424942\n",
      "105.32704783761613\n",
      "105.32704783761613\n",
      "105.49541446906068\n",
      "105.49541446906068\n",
      "105.68796018156047\n",
      "105.68796018156047\n",
      "105.88347950709783\n",
      "105.88347950709783\n",
      "106.06972570364204\n",
      "106.06972570364204\n",
      "106.23813019062356\n",
      "106.23813019062356\n",
      "106.38173152812786\n",
      "106.38173152812786\n",
      "106.494549731252\n",
      "106.494549731252\n",
      "106.57244946575625\n",
      "106.57244946575625\n",
      "106.61315446003351\n",
      "106.61315446003351\n",
      "106.61708072511834\n",
      "106.61708072511834\n",
      "106.5873327623282\n",
      "106.5873327623282\n",
      "106.52794318049007\n"
     ]
    }
   ],
   "source": [
    "prices = []\n",
    "for q in quotes:\n",
    "    q.setValue(101.0)"
   ]
  },
  {
   "cell_type": "markdown",
   "id": "d2810b1a-8a45-44a3-add5-7971be4090d3",
   "metadata": {},
   "source": [
    "As you see, each of the updates sent a notification and thus triggered a recalculation. We can use\n",
    "the list of prices we collected (slicing it to skip duplicate values) to visualize how the price changed"
   ]
  },
  {
   "cell_type": "code",
   "execution_count": 36,
   "id": "5d794554-1bca-4108-9a3e-b1a06030e182",
   "metadata": {},
   "outputs": [
    {
     "name": "stdout",
     "output_type": "stream",
     "text": [
      "Defaulting to user installation because normal site-packages is not writeable\n",
      "Requirement already satisfied: matplotlib in c:\\programdata\\anaconda3\\lib\\site-packages (3.8.4)\n",
      "Requirement already satisfied: contourpy>=1.0.1 in c:\\programdata\\anaconda3\\lib\\site-packages (from matplotlib) (1.2.0)\n",
      "Requirement already satisfied: cycler>=0.10 in c:\\programdata\\anaconda3\\lib\\site-packages (from matplotlib) (0.11.0)\n",
      "Requirement already satisfied: fonttools>=4.22.0 in c:\\programdata\\anaconda3\\lib\\site-packages (from matplotlib) (4.51.0)\n",
      "Requirement already satisfied: kiwisolver>=1.3.1 in c:\\programdata\\anaconda3\\lib\\site-packages (from matplotlib) (1.4.4)\n",
      "Requirement already satisfied: numpy>=1.21 in c:\\programdata\\anaconda3\\lib\\site-packages (from matplotlib) (1.26.4)\n",
      "Requirement already satisfied: packaging>=20.0 in c:\\programdata\\anaconda3\\lib\\site-packages (from matplotlib) (23.2)\n",
      "Requirement already satisfied: pillow>=8 in c:\\programdata\\anaconda3\\lib\\site-packages (from matplotlib) (10.3.0)\n",
      "Requirement already satisfied: pyparsing>=2.3.1 in c:\\programdata\\anaconda3\\lib\\site-packages (from matplotlib) (3.0.9)\n",
      "Requirement already satisfied: python-dateutil>=2.7 in c:\\programdata\\anaconda3\\lib\\site-packages (from matplotlib) (2.9.0.post0)\n",
      "Requirement already satisfied: six>=1.5 in c:\\programdata\\anaconda3\\lib\\site-packages (from python-dateutil>=2.7->matplotlib) (1.16.0)\n"
     ]
    },
    {
     "data": {
      "image/png": "[encoded data removed]",
      "text/plain": [
       "<Figure size 640x480 with 1 Axes>"
      ]
     },
     "metadata": {},
     "output_type": "display_data"
    }
   ],
   "source": [
    "!pip install matplotlib\n",
    "\n",
    "import matplotlib.pyplot as plt\n",
    "import utils # Assuming 'utils' is a custom module, it should be placed in the same directory or in a directory on the Python path\n",
    "\n",
    "unique_prices = prices[::2]+prices[-1::]\n",
    "\n",
    "# If 'utils' is a custom module intended to contain the plot function:\n",
    "# Ensure 'utils.py' contains a 'plot' function similar to this:\n",
    "# def plot():\n",
    "#    fig, ax = plt.subplots()\n",
    "#    return fig, ax\n",
    "\n",
    "# _, ax = utils.plot() # If the function exists in the 'utils' module.\n",
    "# Alternatively, use matplotlib directly if 'utils' does not have a 'plot' function or is unavailable.\n",
    "fig, ax = plt.subplots() # Create a figure and axes using matplotlib\n",
    "ax.plot(unique_prices, '-'); \n",
    "plt.show()"
   ]
  },
  {
   "cell_type": "markdown",
   "id": "a4524c91-e6db-474b-a873-e3e936e00225",
   "metadata": {},
   "source": [
    "## Alternatives?"
   ]
  },
  {
   "cell_type": "code",
   "execution_count": 37,
   "id": "484772b9-70a5-4b60-ab17-78d8f2d7e249",
   "metadata": {},
   "outputs": [],
   "source": [
    "bond.freeze()"
   ]
  },
  {
   "cell_type": "code",
   "execution_count": 38,
   "id": "ecb0267e-d0e1-4682-ab99-12eb8eff097c",
   "metadata": {},
   "outputs": [],
   "source": [
    "for q in quotes:\n",
    "    q.setValue(101.5)"
   ]
  },
  {
   "cell_type": "code",
   "execution_count": 39,
   "id": "b4651239-367d-48c7-97d6-5d21e25d15bc",
   "metadata": {},
   "outputs": [
    {
     "name": "stdout",
     "output_type": "stream",
     "text": [
      "106.86486068956208\n"
     ]
    }
   ],
   "source": [
    "bond.unfreeze()"
   ]
  },
  {
   "cell_type": "code",
   "execution_count": 40,
   "id": "cdfc0c91-0629-4e09-9ee4-e732274d128f",
   "metadata": {},
   "outputs": [],
   "source": [
    "del o"
   ]
  },
  {
   "cell_type": "code",
   "execution_count": 42,
   "id": "8fd5b7f1-489f-485c-8e0f-784d8c6a1ab4",
   "metadata": {},
   "outputs": [],
   "source": [
    "flag = {}\n",
    "flag['status'] = 'down'\n",
    "def set_flag():\n",
    "    flag['status'] = 'up'\n",
    "o = Observer(set_flag)\n",
    "o.registerWith(bond)"
   ]
  },
  {
   "cell_type": "code",
   "execution_count": 43,
   "id": "5085f305-09f0-4038-94c8-dc4ab895ed83",
   "metadata": {},
   "outputs": [
    {
     "name": "stdout",
     "output_type": "stream",
     "text": [
      "{'status': 'down'}\n"
     ]
    }
   ],
   "source": [
    "print(flag)"
   ]
  },
  {
   "cell_type": "code",
   "execution_count": 44,
   "id": "97731219-b704-492c-baec-1315108ec749",
   "metadata": {},
   "outputs": [],
   "source": [
    "for q in quotes:\n",
    "    q.setValue(100.0)"
   ]
  },
  {
   "cell_type": "code",
   "execution_count": 45,
   "id": "0c7ccbe5-1e92-4456-8839-29dd447e2f9a",
   "metadata": {},
   "outputs": [
    {
     "name": "stdout",
     "output_type": "stream",
     "text": [
      "{'status': 'up'}\n"
     ]
    }
   ],
   "source": [
    "print(flag)"
   ]
  },
  {
   "cell_type": "code",
   "execution_count": 46,
   "id": "c86305ff-75ab-4851-a8fb-f0de98da76d9",
   "metadata": {},
   "outputs": [
    {
     "data": {
      "text/plain": [
       "105.78275382133086"
      ]
     },
     "execution_count": 46,
     "metadata": {},
     "output_type": "execute_result"
    }
   ],
   "source": [
    "bond.cleanPrice()"
   ]
  },
  {
   "cell_type": "code",
   "execution_count": 47,
   "id": "8da23415-7549-4040-964d-b9cdadd57959",
   "metadata": {},
   "outputs": [],
   "source": [
    "del o"
   ]
  },
  {
   "cell_type": "code",
   "execution_count": 48,
   "id": "09a92f05-6995-4bcb-b31c-0076b77ad7e7",
   "metadata": {},
   "outputs": [],
   "source": [
    "for q in quotes:\n",
    "    q.setValue(101.0)"
   ]
  },
  {
   "cell_type": "code",
   "execution_count": 49,
   "id": "90316b14-d042-48e3-9764-26bee8302ae0",
   "metadata": {},
   "outputs": [
    {
     "data": {
      "text/plain": [
       "106.52794316262668"
      ]
     },
     "execution_count": 49,
     "metadata": {},
     "output_type": "execute_result"
    }
   ],
   "source": [
    "bond.cleanPrice()"
   ]
  },
  {
   "cell_type": "code",
   "execution_count": null,
   "id": "19c24466-445c-4a5a-9a47-e276c40fb3b1",
   "metadata": {},
   "outputs": [],
   "source": []
  }
 ],
 "metadata": {
  "kernelspec": {
   "display_name": "Python 3 (ipykernel)",
   "language": "python",
   "name": "python3"
  },
  "language_info": {
   "codemirror_mode": {
    "name": "ipython",
    "version": 3
   },
   "file_extension": ".py",
   "mimetype": "text/x-python",
   "name": "python",
   "nbconvert_exporter": "python",
   "pygments_lexer": "ipython3",
   "version": "3.12.4"
  }
 },
 "nbformat": 4,
 "nbformat_minor": 5
}
